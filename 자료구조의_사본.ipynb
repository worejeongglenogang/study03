{
  "nbformat": 4,
  "nbformat_minor": 0,
  "metadata": {
    "colab": {
      "provenance": [],
      "gpuType": "T4",
      "authorship_tag": "ABX9TyMxThobYtQPS6rXz1xQk2lc",
      "include_colab_link": true
    },
    "kernelspec": {
      "name": "python3",
      "display_name": "Python 3"
    },
    "language_info": {
      "name": "python"
    },
    "accelerator": "GPU"
  },
  "cells": [
    {
      "cell_type": "markdown",
      "metadata": {
        "id": "view-in-github",
        "colab_type": "text"
      },
      "source": [
        "<a href=\"https://colab.research.google.com/github/worejeongglenogang/study03/blob/main/%EC%9E%90%EB%A3%8C%EA%B5%AC%EC%A1%B0%EC%9D%98_%EC%82%AC%EB%B3%B8.ipynb\" target=\"_parent\"><img src=\"https://colab.research.google.com/assets/colab-badge.svg\" alt=\"Open In Colab\"/></a>"
      ]
    },
    {
      "cell_type": "markdown",
      "source": [
        "#3주차"
      ],
      "metadata": {
        "id": "1BlsKiHVHI5p"
      }
    },
    {
      "cell_type": "markdown",
      "source": [
        "정수형 : int   \n",
        "실수형 : float   \n",
        "부울: bool  \n",
        "문자열 : str   \n",
        "복소수 : complex  "
      ],
      "metadata": {
        "id": "WPnqM89CHMmY"
      }
    },
    {
      "cell_type": "code",
      "source": [
        "a = 6890\n",
        "type(a)\n",
        "b = str(a)\n",
        "type(b)"
      ],
      "metadata": {
        "colab": {
          "base_uri": "https://localhost:8080/"
        },
        "id": "k2RAwDs4HYNm",
        "outputId": "5eb2ed97-311f-490c-d07f-1b998103a05d"
      },
      "execution_count": null,
      "outputs": [
        {
          "output_type": "execute_result",
          "data": {
            "text/plain": [
              "str"
            ]
          },
          "metadata": {},
          "execution_count": 7
        }
      ]
    },
    {
      "cell_type": "markdown",
      "source": [
        "리스트 : []  \n",
        "튜플 :()  \n",
        "딕셔너리 : {a:1,b:2}  \n",
        "집합:{1,2,3}  "
      ],
      "metadata": {
        "id": "xajo1eL3IBw_"
      }
    },
    {
      "cell_type": "markdown",
      "source": [
        "변수"
      ],
      "metadata": {
        "id": "wcApZXK0Il03"
      }
    },
    {
      "cell_type": "markdown",
      "source": [
        "num =123  \n",
        "pi =3.14  \n",
        "msg = 'game over'  \n",
        "value = True  \n",
        "변수 = 1  "
      ],
      "metadata": {
        "id": "_mVwKBJmInTu"
      }
    },
    {
      "cell_type": "markdown",
      "source": [
        "연산자  \n",
        "더하기 +    \n",
        "뺴기  -  \n",
        "나누기   /  \n",
        "몫   //  \n",
        "나머지  %   \n",
        "지수  **  \n",
        "대입  =  \n",
        "같다  ==  \n",
        "and    &&    \n",
        "or    ||\n"
      ],
      "metadata": {
        "id": "PHCcV4vUJiJn"
      }
    },
    {
      "cell_type": "markdown",
      "source": [],
      "metadata": {
        "id": "oPeeX-z2MU4R"
      }
    },
    {
      "cell_type": "code",
      "source": [
        "menu = [ '라면', '햄버거', '피자']\n",
        "'라면'in menu\n",
        "\n"
      ],
      "metadata": {
        "colab": {
          "base_uri": "https://localhost:8080/"
        },
        "id": "CDZZXEOXIQQ_",
        "outputId": "aa69fd66-1f7d-4a02-870e-afc603caf331"
      },
      "execution_count": null,
      "outputs": [
        {
          "output_type": "execute_result",
          "data": {
            "text/plain": [
              "True"
            ]
          },
          "metadata": {},
          "execution_count": 8
        }
      ]
    },
    {
      "cell_type": "markdown",
      "source": [
        "input()함수"
      ],
      "metadata": {
        "id": "iHTD--jXLNB5"
      }
    },
    {
      "cell_type": "code",
      "source": [
        "name = input (\"당신의 이름을 입력하세요\")\n",
        "age = int ( input( \"나이가 몇 살입니까?\"))"
      ],
      "metadata": {
        "colab": {
          "base_uri": "https://localhost:8080/"
        },
        "id": "-qQOtrTvHjMn",
        "outputId": "09c98ce4-b34b-40b4-b703-74e911bfc2a7"
      },
      "execution_count": null,
      "outputs": [
        {
          "name": "stdout",
          "output_type": "stream",
          "text": [
            "당신의 이름을 입력하세요ㅇㄹㄴㄴㅁㄴㅁㅁㄴㄹㄴㅁ\n",
            "나이가 몇 살입니까?213114324413251324\n"
          ]
        }
      ]
    },
    {
      "cell_type": "code",
      "source": [
        "print(\"hello \\n world\")\n",
        "print ('she said:\\'hi\\'')\n",
        "print('it\\'s okay')\n",
        "print('c:\\\\User\\\\Name')\n",
        "print('A\\tB')"
      ],
      "metadata": {
        "id": "Qudm11luHjO3",
        "colab": {
          "base_uri": "https://localhost:8080/"
        },
        "outputId": "f9d27e78-7a86-46be-beaa-037cc31351ee"
      },
      "execution_count": null,
      "outputs": [
        {
          "output_type": "stream",
          "name": "stdout",
          "text": [
            "hello \n",
            " world\n",
            "she said:'hi'\n",
            "it's okay\n",
            "c:\\User\\Name\n",
            "A\tB\n"
          ]
        }
      ]
    },
    {
      "cell_type": "markdown",
      "source": [
        "조건문"
      ],
      "metadata": {
        "id": "oyoCLlN3OIjS"
      }
    },
    {
      "cell_type": "code",
      "source": [
        "#숫자를 입력을 받아서 짝수이면 짝수입니다. 를 출력하고 홀수이면 홀수입니다를 출력하는 프로그램\n",
        "a = int ( input( \"숫자를 입력하세요\"))\n",
        "if a % 2 == 0:\n",
        "    print(\"짝수입니다\")\n",
        "else:\n",
        "    print(\"홀수입니다\")"
      ],
      "metadata": {
        "colab": {
          "base_uri": "https://localhost:8080/"
        },
        "id": "LLryys8xOLKK",
        "outputId": "b84186ed-49db-4bec-e109-2e8047e72436"
      },
      "execution_count": null,
      "outputs": [
        {
          "output_type": "stream",
          "name": "stdout",
          "text": [
            "숫자를 입력하세요3\n",
            "홀수입니다\n"
          ]
        }
      ]
    },
    {
      "cell_type": "code",
      "source": [
        "a = int(input (\" 숫자를 입력하세요\"))\n",
        "if a > 90:\n",
        "  print(\"A\")\n",
        "elif a>80:\n",
        "  print(\"B\")\n",
        "elif a>70:\n",
        "  print(\"C\")\n",
        "elif a>60:\n",
        "  print(\"D\")\n",
        "else:\n",
        "  print(\"F\")\n",
        "\n"
      ],
      "metadata": {
        "colab": {
          "base_uri": "https://localhost:8080/"
        },
        "id": "uxhD7dHeV8a7",
        "outputId": "700f2a79-a79a-4c34-be53-47156edac516"
      },
      "execution_count": null,
      "outputs": [
        {
          "output_type": "stream",
          "name": "stdout",
          "text": [
            " 숫자를 입력하세요75\n",
            "C\n"
          ]
        }
      ]
    },
    {
      "cell_type": "markdown",
      "source": [
        "반복  \n",
        " for문 : 횟수 반복, for i in range(5):  \n",
        " while문 : 조건이 성립할떄까지  반복  "
      ],
      "metadata": {
        "id": "d5ChM3NoX7lk"
      }
    },
    {
      "cell_type": "code",
      "source": [
        "for i in range(100):\n",
        "  print(i,end=', ')"
      ],
      "metadata": {
        "colab": {
          "base_uri": "https://localhost:8080/"
        },
        "id": "pxXGoJroYG6d",
        "outputId": "4c756a87-6a29-49b5-af12-27f240397866"
      },
      "execution_count": null,
      "outputs": [
        {
          "output_type": "stream",
          "name": "stdout",
          "text": [
            "0, 1, 2, 3, 4, 5, 6, 7, 8, 9, 10, 11, 12, 13, 14, 15, 16, 17, 18, 19, 20, 21, 22, 23, 24, 25, 26, 27, 28, 29, 30, 31, 32, 33, 34, 35, 36, 37, 38, 39, 40, 41, 42, 43, 44, 45, 46, 47, 48, 49, 50, 51, 52, 53, 54, 55, 56, 57, 58, 59, 60, 61, 62, 63, 64, 65, 66, 67, 68, 69, 70, 71, 72, 73, 74, 75, 76, 77, 78, 79, 80, 81, 82, 83, 84, 85, 86, 87, 88, 89, 90, 91, 92, 93, 94, 95, 96, 97, 98, 99, "
          ]
        }
      ]
    },
    {
      "cell_type": "code",
      "source": [
        "for i in range(1, 11, 2):\n",
        "  print(i)\n",
        "\n",
        "for c in \"GAME OVER\":\n",
        "\n",
        " print(c)"
      ],
      "metadata": {
        "colab": {
          "base_uri": "https://localhost:8080/"
        },
        "id": "kXOaZRqzYa6O",
        "outputId": "b7ea94a9-8eb6-47fe-d71e-bb0f3dfd20f2"
      },
      "execution_count": null,
      "outputs": [
        {
          "output_type": "stream",
          "name": "stdout",
          "text": [
            "1\n",
            "3\n",
            "5\n",
            "7\n",
            "9\n",
            "G\n",
            "A\n",
            "M\n",
            "E\n",
            " \n",
            "O\n",
            "V\n",
            "E\n",
            "R\n"
          ]
        }
      ]
    },
    {
      "cell_type": "code",
      "source": [
        "for item in [12,22,33,44]:\n",
        "  print(\"값:\" , item )"
      ],
      "metadata": {
        "colab": {
          "base_uri": "https://localhost:8080/"
        },
        "id": "qwPljOUiY7M1",
        "outputId": "d1994c2e-6f22-4fe2-ffe0-b9f6e55d833b"
      },
      "execution_count": null,
      "outputs": [
        {
          "output_type": "stream",
          "name": "stdout",
          "text": [
            "값: 12\n",
            "값: 22\n",
            "값: 33\n",
            "값: 44\n"
          ]
        }
      ]
    },
    {
      "cell_type": "code",
      "source": [
        "my = {\"월\" :\"짬뽕\", \"화\":\"냉면\", \"수\": \"떡볶이\"}\n",
        "for e in my:\n",
        "  print(\"키:\",e)"
      ],
      "metadata": {
        "colab": {
          "base_uri": "https://localhost:8080/"
        },
        "id": "e5yIn1VJZFCu",
        "outputId": "d6ffff4a-a736-4271-e50f-586059abc6a1"
      },
      "execution_count": null,
      "outputs": [
        {
          "output_type": "stream",
          "name": "stdout",
          "text": [
            "키: 월\n",
            "키: 화\n",
            "키: 수\n"
          ]
        }
      ]
    },
    {
      "cell_type": "code",
      "source": [
        "a = int(input (\" 숫자를 입력하세요\"))\n",
        "d = a*2\n",
        "print(d)"
      ],
      "metadata": {
        "colab": {
          "base_uri": "https://localhost:8080/"
        },
        "id": "e3z3mmdEazbo",
        "outputId": "e79e0ff8-e2ca-44eb-82b6-1e9cf6c764b5"
      },
      "execution_count": null,
      "outputs": [
        {
          "output_type": "stream",
          "name": "stdout",
          "text": [
            " 숫자를 입력하세요2\n",
            "4\n"
          ]
        }
      ]
    },
    {
      "cell_type": "code",
      "source": [
        "for i in range(1,10):\n",
        "  print(\"2 *\",i,\"=\",2*i)\n"
      ],
      "metadata": {
        "colab": {
          "base_uri": "https://localhost:8080/"
        },
        "id": "da3fNOzQbaSG",
        "outputId": "4c502276-0cc5-4d47-8d16-a1e914520322"
      },
      "execution_count": null,
      "outputs": [
        {
          "output_type": "stream",
          "name": "stdout",
          "text": [
            "2 * 1 = 2\n",
            "2 * 2 = 4\n",
            "2 * 3 = 6\n",
            "2 * 4 = 8\n",
            "2 * 5 = 10\n",
            "2 * 6 = 12\n",
            "2 * 7 = 14\n",
            "2 * 8 = 16\n",
            "2 * 9 = 18\n"
          ]
        }
      ]
    },
    {
      "cell_type": "code",
      "source": [
        "for i in range(2,10):\n",
        "  for j in range(1,10):\n",
        "    print(i,\"x\", j, \"=\", i*j)"
      ],
      "metadata": {
        "colab": {
          "base_uri": "https://localhost:8080/"
        },
        "id": "DuIpJaYtfkvQ",
        "outputId": "ea409c07-612b-4023-8439-c192e86048b8"
      },
      "execution_count": null,
      "outputs": [
        {
          "output_type": "stream",
          "name": "stdout",
          "text": [
            "2 x 1 = 2\n",
            "2 x 2 = 4\n",
            "2 x 3 = 6\n",
            "2 x 4 = 8\n",
            "2 x 5 = 10\n",
            "2 x 6 = 12\n",
            "2 x 7 = 14\n",
            "2 x 8 = 16\n",
            "2 x 9 = 18\n",
            "3 x 1 = 3\n",
            "3 x 2 = 6\n",
            "3 x 3 = 9\n",
            "3 x 4 = 12\n",
            "3 x 5 = 15\n",
            "3 x 6 = 18\n",
            "3 x 7 = 21\n",
            "3 x 8 = 24\n",
            "3 x 9 = 27\n",
            "4 x 1 = 4\n",
            "4 x 2 = 8\n",
            "4 x 3 = 12\n",
            "4 x 4 = 16\n",
            "4 x 5 = 20\n",
            "4 x 6 = 24\n",
            "4 x 7 = 28\n",
            "4 x 8 = 32\n",
            "4 x 9 = 36\n",
            "5 x 1 = 5\n",
            "5 x 2 = 10\n",
            "5 x 3 = 15\n",
            "5 x 4 = 20\n",
            "5 x 5 = 25\n",
            "5 x 6 = 30\n",
            "5 x 7 = 35\n",
            "5 x 8 = 40\n",
            "5 x 9 = 45\n",
            "6 x 1 = 6\n",
            "6 x 2 = 12\n",
            "6 x 3 = 18\n",
            "6 x 4 = 24\n",
            "6 x 5 = 30\n",
            "6 x 6 = 36\n",
            "6 x 7 = 42\n",
            "6 x 8 = 48\n",
            "6 x 9 = 54\n",
            "7 x 1 = 7\n",
            "7 x 2 = 14\n",
            "7 x 3 = 21\n",
            "7 x 4 = 28\n",
            "7 x 5 = 35\n",
            "7 x 6 = 42\n",
            "7 x 7 = 49\n",
            "7 x 8 = 56\n",
            "7 x 9 = 63\n",
            "8 x 1 = 8\n",
            "8 x 2 = 16\n",
            "8 x 3 = 24\n",
            "8 x 4 = 32\n",
            "8 x 5 = 40\n",
            "8 x 6 = 48\n",
            "8 x 7 = 56\n",
            "8 x 8 = 64\n",
            "8 x 9 = 72\n",
            "9 x 1 = 9\n",
            "9 x 2 = 18\n",
            "9 x 3 = 27\n",
            "9 x 4 = 36\n",
            "9 x 5 = 45\n",
            "9 x 6 = 54\n",
            "9 x 7 = 63\n",
            "9 x 8 = 72\n",
            "9 x 9 = 81\n"
          ]
        }
      ]
    },
    {
      "cell_type": "code",
      "source": [
        "msg = \"동양미래대\""
      ],
      "metadata": {
        "id": "HTbDcwhShR84"
      },
      "execution_count": null,
      "outputs": []
    },
    {
      "cell_type": "code",
      "source": [
        "hi = \"안녕하세요\""
      ],
      "metadata": {
        "id": "aLcupj_Fha0B"
      },
      "execution_count": null,
      "outputs": []
    },
    {
      "cell_type": "code",
      "source": [
        "msg[0:2]"
      ],
      "metadata": {
        "colab": {
          "base_uri": "https://localhost:8080/",
          "height": 35
        },
        "id": "X9qJm_2_hE8h",
        "outputId": "e22643d3-fe81-4bdb-e543-f76f5dd5d3ff"
      },
      "execution_count": null,
      "outputs": [
        {
          "output_type": "execute_result",
          "data": {
            "text/plain": [
              "'동양'"
            ],
            "application/vnd.google.colaboratory.intrinsic+json": {
              "type": "string"
            }
          },
          "metadata": {},
          "execution_count": 18
        }
      ]
    },
    {
      "cell_type": "code",
      "source": [
        "hi[0:2]"
      ],
      "metadata": {
        "colab": {
          "base_uri": "https://localhost:8080/",
          "height": 35
        },
        "id": "PyXSHrM3hWtZ",
        "outputId": "9ee821af-46a7-4fc5-887d-c2b878158e54"
      },
      "execution_count": null,
      "outputs": [
        {
          "output_type": "execute_result",
          "data": {
            "text/plain": [
              "'안녕'"
            ],
            "application/vnd.google.colaboratory.intrinsic+json": {
              "type": "string"
            }
          },
          "metadata": {},
          "execution_count": 20
        }
      ]
    },
    {
      "cell_type": "markdown",
      "source": [
        "리스트 메소드    \n",
        "append(): 맨뒤에서 추가    \n",
        "extend(): 리스트 a를 추가    \n",
        "count(): 항목 개수를 반환    \n",
        "index(): 리스트에서 항목을 찾아 변환  \n",
        "insert(a, b ): a위치에 b를 삽입   \n",
        "pop(): 마지막항목을 반한후 삭제  \n",
        "remove ():삭제  \n",
        "reserve():리스트 항목 순서 뒤집기  \n",
        "sort(): 정렬  \n"
      ],
      "metadata": {
        "id": "_q4qQPUYiSVh"
      }
    },
    {
      "cell_type": "markdown",
      "source": [
        "def find_min_max(A):\n",
        "  min = A[0]\n",
        "  max = A[0]\n",
        "  for i in range(1, len(A)):\n",
        "  if max < A[i] : max = A[i]\n",
        "  if min > A[i]: min= A[i]\n",
        "  return min,max\n",
        "  data = [5,3,8,4,9,1,6,2,7]\n",
        "  x,y = find_min_ max(data)\n",
        "  print(\" (min,max)\n",
        "  "
      ],
      "metadata": {
        "id": "PGOkudnujIu6"
      }
    },
    {
      "cell_type": "code",
      "source": [
        "def find_min_max(A):\n",
        "  min = A[0]\n",
        "  max = A[0]\n",
        "  for i in range(1, len(A)):\n",
        "  if max < A[i] : max = A[i]\n",
        "  if min > A[i] : min= A[i]\n",
        "  return min,max\n",
        "  data = [5,3,8,4,9,1,6,2,7]\n",
        "  x,y = find_min_max(data)\n",
        "  print(\"(min,max)\")"
      ],
      "metadata": {
        "colab": {
          "base_uri": "https://localhost:8080/",
          "height": 110
        },
        "id": "VOAv3Z4elZzK",
        "outputId": "5c7ebbb8-2dbd-4d34-eb12-afb175a80310"
      },
      "execution_count": 1,
      "outputs": [
        {
          "output_type": "error",
          "ename": "IndentationError",
          "evalue": "expected an indented block after 'for' statement on line 4 (ipython-input-2139061023.py, line 5)",
          "traceback": [
            "\u001b[0;36m  File \u001b[0;32m\"/tmp/ipython-input-2139061023.py\"\u001b[0;36m, line \u001b[0;32m5\u001b[0m\n\u001b[0;31m    if max < A[i] : max = A[i]\u001b[0m\n\u001b[0m    ^\u001b[0m\n\u001b[0;31mIndentationError\u001b[0m\u001b[0;31m:\u001b[0m expected an indented block after 'for' statement on line 4\n"
          ]
        }
      ]
    },
    {
      "cell_type": "markdown",
      "source": [
        "4주차"
      ],
      "metadata": {
        "id": "7r0tulGVHExv"
      }
    },
    {
      "cell_type": "markdown",
      "source": [
        "두수를 입력 받아서 두수의 합을 출력하는 함수 정의, 호출:"
      ],
      "metadata": {
        "id": "Da3ZUl5dIIbA"
      }
    },
    {
      "cell_type": "code",
      "source": [],
      "metadata": {
        "id": "FHY2Qk9Xls8b",
        "colab": {
          "base_uri": "https://localhost:8080/"
        },
        "outputId": "2da8ef9b-7fc2-4709-f565-545560dab8ee"
      },
      "execution_count": null,
      "outputs": [
        {
          "output_type": "stream",
          "name": "stdout",
          "text": [
            "첫 번째 숫자를 입력하세요: 2\n",
            "두 번째 숫자를 입력하세요: 3\n",
            "두 수의 합: 5\n"
          ]
        }
      ]
    },
    {
      "cell_type": "code",
      "source": [
        "def sum_two_numbers(a, b):\n",
        "    total = a - b\n",
        "    return total  # 뺄셈 결과를 반환\n",
        "\n",
        "a = int(input(\"첫 번째 숫자를 입력하세요: \"))\n",
        "b = int(input(\"두 번째 숫자를 입력하세요: \"))\n",
        "result = sum_two_numbers(a, b)\n",
        "print(\"두 수의 뺄셈 결과:\", result)\n"
      ],
      "metadata": {
        "colab": {
          "base_uri": "https://localhost:8080/"
        },
        "id": "lgC7HJAALdHp",
        "outputId": "18c5fceb-409e-4e9b-e54d-a90274c12782"
      },
      "execution_count": null,
      "outputs": [
        {
          "output_type": "stream",
          "name": "stdout",
          "text": [
            "첫 번째 숫자를 입력하세요: 5\n",
            "두 번째 숫자를 입력하세요: 1\n",
            "두 수의 뺄셈 결과: 4\n"
          ]
        }
      ]
    },
    {
      "cell_type": "code",
      "source": [
        "def add(a, b):\n",
        "    return a + b  # 더셈\n",
        "\n",
        "def subtract(a, b):\n",
        "    return a - b  # 뺄셈\n",
        "\n",
        "def multiply(a, b):\n",
        "    return a * b  # 곱셈\n",
        "\n",
        "def divide(a, b):\n",
        "    if b == 0:\n",
        "        return \"0으로 나눌 수 없습니다!\"  # 0으로 나누는 오류 처리\n",
        "    return a / b  # 나눗셈\n",
        "\n",
        "# 사용자 입력 받기\n",
        "a = int(input(\"첫 번째 숫자를 입력하세요: \"))\n",
        "b = int(input(\"두 번째 숫자를 입력하세요: \"))\n",
        "\n",
        "# 연산 선택\n",
        "print(\"\\n어떤 연산을 하시겠습니까?\")\n",
        "print(\"1: 더셈\")\n",
        "print(\"2: 뺄셈\")\n",
        "print(\"3: 곱셈\")\n",
        "print(\"4: 나눗셈\")\n",
        "\n",
        "operation = input(\"선택하세요 (1/2/3/4): \")\n",
        "\n",
        "if operation == '1':\n",
        "    result = add(a, b)\n",
        "    print(\"두 수의 더셈 결과:\", result)\n",
        "elif operation == '2':\n",
        "    result = subtract(a, b)\n",
        "    print(\"두 수의 뺄셈 결과:\", result)\n",
        "elif operation == '3':\n",
        "    result = multiply(a, b)\n",
        "    print(\"두 수의 곱셈 결과:\", result)\n",
        "elif operation == '4':\n",
        "    result = divide(a, b)\n",
        "    print(\"두 수의 나눗셈 결과:\", result)\n",
        "else:\n",
        "    print(\"잘못된 선택입니다. 1, 2, 3, 4 중 하나를 선택해주세요.\")\n"
      ],
      "metadata": {
        "colab": {
          "base_uri": "https://localhost:8080/"
        },
        "id": "5PH8qh5PLlJp",
        "outputId": "8af5e095-d364-48a1-f063-ac4220f460c7"
      },
      "execution_count": null,
      "outputs": [
        {
          "output_type": "stream",
          "name": "stdout",
          "text": [
            "첫 번째 숫자를 입력하세요: 4\n",
            "두 번째 숫자를 입력하세요: 4\n",
            "\n",
            "어떤 연산을 하시겠습니까?\n",
            "1: 더셈\n",
            "2: 뺄셈\n",
            "3: 곱셈\n",
            "4: 나눗셈\n",
            "선택하세요 (1/2/3/4): 1\n",
            "두 수의 더셈 결과: 8\n"
          ]
        }
      ]
    },
    {
      "cell_type": "code",
      "source": [
        "import random\n",
        "\n",
        "def generate_lotto_numbers():\n",
        "    lotto_numbers = random.sample(range(1, 46), 6)\n",
        "    lotto_numbers.sort()\n",
        "    return lotto_numbers\n",
        "\n",
        "# 로또 번호 6개 추첨\n",
        "lotto = generate_lotto_numbers()\n",
        "print(\"이번 주 로또 번호는:\", lotto)\n"
      ],
      "metadata": {
        "colab": {
          "base_uri": "https://localhost:8080/"
        },
        "id": "0QTafuOHLlCR",
        "outputId": "8d0a49a1-f047-455d-9bbf-982df26c9b9e"
      },
      "execution_count": null,
      "outputs": [
        {
          "output_type": "stream",
          "name": "stdout",
          "text": [
            "이번 주 로또 번호는: [4, 5, 6, 27, 29, 39]\n"
          ]
        }
      ]
    },
    {
      "cell_type": "code",
      "source": [
        "lotto_list =list(range(1,46))\n",
        "a = random.sample(lotto_list,6)\n",
        "a.sort()\n",
        "print(a)"
      ],
      "metadata": {
        "colab": {
          "base_uri": "https://localhost:8080/"
        },
        "id": "T0xGIwCNPBKy",
        "outputId": "c819db39-56d1-4d7d-d319-a45efc7f5901"
      },
      "execution_count": null,
      "outputs": [
        {
          "output_type": "stream",
          "name": "stdout",
          "text": [
            "5 30 33 35 43 44\n"
          ]
        }
      ]
    },
    {
      "cell_type": "code",
      "source": [
        "a = 'dkalg23++7'\n",
        "print(a.isalnum())"
      ],
      "metadata": {
        "colab": {
          "base_uri": "https://localhost:8080/"
        },
        "id": "VdkIcLzdVCdE",
        "outputId": "4f9488b7-792a-431c-b11b-7697796071b7"
      },
      "execution_count": null,
      "outputs": [
        {
          "output_type": "stream",
          "name": "stdout",
          "text": [
            "False\n"
          ]
        }
      ]
    },
    {
      "cell_type": "code",
      "source": [
        "a = input(\"새로운 비밀번호를 입력하세요.:\")\n",
        "if  (a == 1234):\n",
        "  print(\"good~ 비밀번호가 올바르게 생성됐습니다.\")\n",
        "else:\n",
        "  print(\"비밀번호 가 옳지 않습니다.\")"
      ],
      "metadata": {
        "colab": {
          "base_uri": "https://localhost:8080/"
        },
        "id": "UxPfGwUEVUg7",
        "outputId": "57c7a86f-3567-4d31-bb89-6c7904edd54e"
      },
      "execution_count": null,
      "outputs": [
        {
          "output_type": "stream",
          "name": "stdout",
          "text": [
            "새로운 비밀번호를 입력하세요.:1234\n",
            "비밀번호 가 옳지 않습니다.\n"
          ]
        }
      ]
    },
    {
      "cell_type": "code",
      "source": [
        "def check_password(password):\n",
        "    if len(password) >= 8 and password.isalnum():  # pw -> password로 수정, isalnum() 메서드 호출\n",
        "        print(\"good 비밀번호가 생성\")\n",
        "    else:\n",
        "        print(\"bad 비밀번호가 생성안됨\")\n",
        "\n"
      ],
      "metadata": {
        "id": "VpoO7ig4VUer"
      },
      "execution_count": null,
      "outputs": []
    },
    {
      "cell_type": "code",
      "source": [
        "password = input(\"새로운 비밀번호를 입력하세요.:\")\n",
        "check_password(password)"
      ],
      "metadata": {
        "colab": {
          "base_uri": "https://localhost:8080/"
        },
        "id": "52pytJfpVUcL",
        "outputId": "03eb2927-6f38-4811-8d46-cab54256bea9"
      },
      "execution_count": null,
      "outputs": [
        {
          "output_type": "stream",
          "name": "stdout",
          "text": [
            "새로운 비밀번호를 입력하세요.:fsdfsfsd\n",
            "good 비밀번호가 생성\n"
          ]
        }
      ]
    },
    {
      "cell_type": "code",
      "source": [
        "a = []\n",
        "b = [1,2,3,4,5]\n",
        "c = [\"hi\",\"hello\"]\n",
        "bc = len(b)\n",
        "ca = len(c)\n",
        "print(\"a리스트의 길이:\",   bc   )\n",
        "print(\"c두번쨰값:\",   c[1]   )\n",
        "print(\"b=\",b)"
      ],
      "metadata": {
        "colab": {
          "base_uri": "https://localhost:8080/"
        },
        "id": "wgrxKPMxVUZr",
        "outputId": "68651152-712c-4140-beac-ea7bc6e80626"
      },
      "execution_count": null,
      "outputs": [
        {
          "output_type": "stream",
          "name": "stdout",
          "text": [
            "a리스트의 길이: 5\n",
            "c두번쨰값: hello\n",
            "b= [1, 2, 3, 4, 5]\n"
          ]
        }
      ]
    },
    {
      "cell_type": "code",
      "source": [
        "b = [1,2,3,4,5]\n",
        "hap = 0\n",
        "for i in range(len(b)):\n",
        "  hap = hap+ b[i]\n",
        "print(\"b리스트의 합:\", hap )"
      ],
      "metadata": {
        "colab": {
          "base_uri": "https://localhost:8080/"
        },
        "id": "9OBUhi0AdrPF",
        "outputId": "a4f8b996-9dab-49fa-caa6-1334ee6d3646"
      },
      "execution_count": null,
      "outputs": [
        {
          "output_type": "stream",
          "name": "stdout",
          "text": [
            "b리스트의 합: 15\n"
          ]
        }
      ]
    },
    {
      "cell_type": "code",
      "source": [
        "import random\n",
        "e = [random.randint(0,10) for i in range(10)]\n",
        "print(e)"
      ],
      "metadata": {
        "colab": {
          "base_uri": "https://localhost:8080/"
        },
        "id": "NASs1aK2fZt1",
        "outputId": "adb4c240-0e32-47bf-f35f-bc84d5913199"
      },
      "execution_count": null,
      "outputs": [
        {
          "output_type": "stream",
          "name": "stdout",
          "text": [
            "[0, 8, 5, 1, 8, 3, 6, 4, 7, 9]\n"
          ]
        }
      ]
    },
    {
      "cell_type": "code",
      "source": [
        "a =[2,3,4,5]\n",
        "a.append(6)\n",
        "a.append(7)\n",
        "a"
      ],
      "metadata": {
        "colab": {
          "base_uri": "https://localhost:8080/"
        },
        "id": "Bsilf2pHj213",
        "outputId": "911ebb2b-2526-4ebd-c1a1-7e0c65828b72"
      },
      "execution_count": null,
      "outputs": [
        {
          "output_type": "execute_result",
          "data": {
            "text/plain": [
              "[2, 3, 4, 5, 6, 7]"
            ]
          },
          "metadata": {},
          "execution_count": 116
        }
      ]
    },
    {
      "cell_type": "code",
      "source": [
        "a.pop()\n",
        "a"
      ],
      "metadata": {
        "colab": {
          "base_uri": "https://localhost:8080/"
        },
        "id": "kKZz9r5mjyiW",
        "outputId": "273ec3d7-9491-4a48-ae0f-e523c154af78"
      },
      "execution_count": null,
      "outputs": [
        {
          "output_type": "execute_result",
          "data": {
            "text/plain": [
              "[2, 3, 4, 5, 6]"
            ]
          },
          "metadata": {},
          "execution_count": 117
        }
      ]
    },
    {
      "cell_type": "code",
      "source": [
        "a.insert(0,1)\n",
        "a"
      ],
      "metadata": {
        "colab": {
          "base_uri": "https://localhost:8080/"
        },
        "id": "897PJT9tj3of",
        "outputId": "db2fb025-96b3-4a17-c43c-22a906347eaa"
      },
      "execution_count": null,
      "outputs": [
        {
          "output_type": "execute_result",
          "data": {
            "text/plain": [
              "[1, 2, 3, 4, 5, 6]"
            ]
          },
          "metadata": {},
          "execution_count": 118
        }
      ]
    },
    {
      "cell_type": "code",
      "source": [
        "b = [6,7,8,9]\n",
        "b.append(4)\n",
        "b.append(5)\n",
        "b.append(6)\n",
        "b.append(7)\n",
        "b"
      ],
      "metadata": {
        "colab": {
          "base_uri": "https://localhost:8080/"
        },
        "id": "ZxMYCGdPkZdn",
        "outputId": "a7008ccd-bf15-425f-b062-a6aeb08f0712"
      },
      "execution_count": null,
      "outputs": [
        {
          "output_type": "execute_result",
          "data": {
            "text/plain": [
              "[6, 7, 8, 9, 4, 5, 6, 7]"
            ]
          },
          "metadata": {},
          "execution_count": 120
        }
      ]
    },
    {
      "cell_type": "code",
      "source": [
        "b.sort()\n",
        "b"
      ],
      "metadata": {
        "id": "vLSV-hedk3rP",
        "outputId": "6904e528-738c-4cbc-ab7a-0b2f5fbfbb14",
        "colab": {
          "base_uri": "https://localhost:8080/"
        }
      },
      "execution_count": null,
      "outputs": [
        {
          "output_type": "execute_result",
          "data": {
            "text/plain": [
              "[4, 5, 6, 6, 7, 7, 8, 9]"
            ]
          },
          "metadata": {},
          "execution_count": 121
        }
      ]
    },
    {
      "cell_type": "code",
      "source": [],
      "metadata": {
        "id": "uP0ZjeqWk3gX"
      },
      "execution_count": null,
      "outputs": []
    }
  ]
}